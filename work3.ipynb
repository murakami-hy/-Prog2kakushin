{
  "nbformat": 4,
  "nbformat_minor": 0,
  "metadata": {
    "colab": {
      "provenance": [],
      "authorship_tag": "ABX9TyNrwGQa5AG1cJu4E7Xyas8V",
      "include_colab_link": true
    },
    "kernelspec": {
      "name": "python3",
      "display_name": "Python 3"
    },
    "language_info": {
      "name": "python"
    }
  },
  "cells": [
    {
      "cell_type": "markdown",
      "metadata": {
        "id": "view-in-github",
        "colab_type": "text"
      },
      "source": [
        "<a href=\"https://colab.research.google.com/github/murakami-hy/-Prog2kakushin/blob/main/work3.ipynb\" target=\"_parent\"><img src=\"https://colab.research.google.com/assets/colab-badge.svg\" alt=\"Open In Colab\"/></a>"
      ]
    },
    {
      "cell_type": "markdown",
      "source": [
        "turtle,openCV\n",
        "\n",
        "処理された（モザイクなど）画像からなんの画像かをあてるプログラム\n",
        "\n",
        "正解したら元の画像を表示して間違えたら少しわかりやすく処理して表示する\n",
        "\n"
      ],
      "metadata": {
        "id": "yaRC71vt13I8"
      }
    },
    {
      "cell_type": "code",
      "source": [],
      "metadata": {
        "id": "vSTvhGzn18eP"
      },
      "execution_count": null,
      "outputs": []
    }
  ]
}