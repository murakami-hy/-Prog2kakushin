{
  "nbformat": 4,
  "nbformat_minor": 0,
  "metadata": {
    "colab": {
      "provenance": [],
      "authorship_tag": "ABX9TyPEWFgDY8fkxbNjNFTMJYi/",
      "include_colab_link": true
    },
    "kernelspec": {
      "name": "python3",
      "display_name": "Python 3"
    },
    "language_info": {
      "name": "python"
    }
  },
  "cells": [
    {
      "cell_type": "markdown",
      "metadata": {
        "id": "view-in-github",
        "colab_type": "text"
      },
      "source": [
        "<a href=\"https://colab.research.google.com/github/murakami-hy/-Prog2kakushin/blob/main/work2.ipynb\" target=\"_parent\"><img src=\"https://colab.research.google.com/assets/colab-badge.svg\" alt=\"Open In Colab\"/></a>"
      ]
    },
    {
      "cell_type": "markdown",
      "source": [
        "numpy\n",
        "\n",
        "入力した数値や関数を計算する計算機のプログラム\n",
        "\n"
      ],
      "metadata": {
        "id": "cl-sBRZC1kon"
      }
    },
    {
      "cell_type": "code",
      "source": [],
      "metadata": {
        "id": "5dwrmWuj1riJ"
      },
      "execution_count": null,
      "outputs": []
    }
  ]
}