{
  "nbformat": 4,
  "nbformat_minor": 0,
  "metadata": {
    "colab": {
      "provenance": [],
      "authorship_tag": "ABX9TyO6NtwIo74r8neLT1AkU8Ba",
      "include_colab_link": true
    },
    "kernelspec": {
      "name": "python3",
      "display_name": "Python 3"
    },
    "language_info": {
      "name": "python"
    }
  },
  "cells": [
    {
      "cell_type": "markdown",
      "metadata": {
        "id": "view-in-github",
        "colab_type": "text"
      },
      "source": [
        "<a href=\"https://colab.research.google.com/github/murakami-hy/-Prog2kakushin/blob/main/work1.ipynb\" target=\"_parent\"><img src=\"https://colab.research.google.com/assets/colab-badge.svg\" alt=\"Open In Colab\"/></a>"
      ]
    },
    {
      "cell_type": "markdown",
      "source": [
        "pandasをつかって外食をするお店を提案してくれるプログラムをつくりました。\n",
        "\n",
        "ランキングや予算、ジャンルから検索できます。\n",
        "また、ランダムにお店を提案してくれる機能もつくりました。\n",
        "検索結果として店名とジャンルの表を表示し、その後その中から気になるお店の詳細(ランキング、予算、予約が必要か、最寄り駅、定休日、周辺地図)を見ることができます。"
      ],
      "metadata": {
        "id": "jpjZx5XT1Xv9"
      }
    },
    {
      "cell_type": "markdown",
      "source": [
        "はじめに以下の2つのセルを実行してください。"
      ],
      "metadata": {
        "id": "lX_ZyRNMyild"
      }
    },
    {
      "cell_type": "code",
      "source": [
        "!curl -sc /tmp/cookie \"https://drive.google.com/uc?export=download&id=1fW9u91uceQ7Hth0hHRi7utr8SaaI461N\" > /dev/null\n",
        "!CODE=\"$(awk '/_warning_/ {print $NF}' /tmp/cookie)\"  \n",
        "!curl -Lb /tmp/cookie \"https://drive.google.com/uc?export=download&confirm=${CODE}&id=1fW9u91uceQ7Hth0hHRi7utr8SaaI461N\" -o map.zip\n",
        "!unzip -o map.zip"
      ],
      "metadata": {
        "id": "iE0fLAAiD7yW"
      },
      "execution_count": null,
      "outputs": []
    },
    {
      "cell_type": "code",
      "source": [
        "!wget \"https://drive.google.com/uc?export=download&id=19PT0zIGU41Hd2SOBbeE6sSELqsOANFj1\" -O work1.csv"
      ],
      "metadata": {
        "id": "ViT42cCbvGII"
      },
      "execution_count": null,
      "outputs": []
    },
    {
      "cell_type": "code",
      "source": [
        "from IPython.display import display\n",
        "import pandas as pd\n",
        "import random\n",
        "import numpy as np\n",
        "import cv2, sys, glob\n",
        "from google.colab.patches import cv2_imshow\n",
        "\n",
        "def syousai():\n",
        " while True:\n",
        "   print('さらに店の詳細を調べることができます。表を参考に、気になるお店のインデックス(一番左の数字)を入力してください')\n",
        "   i=int(input('インデックス？'))\n",
        "   print(df.at[i,'店名']+'の詳細を表示します')\n",
        "   print('12月21日時点で食べログランキング'+str(df.at[i,'ランキング'])+'位です')\n",
        "   print('予算は'+str(df.at[i,'予算'])+'円です')\n",
        "   print('予約は'+df.at[i,'予約']+'です')\n",
        "   print('最寄り駅は'+df.at[i,'最寄り駅']+'です')\n",
        "   if df.at[i,'定休日']!='不定休':\n",
        "    print('定休日は'+df.at[i,'定休日']+'です')\n",
        "   print('周辺地図はこちらです')\n",
        "   file ='map/'+df.at[i,'地図']\n",
        "   img = cv2.imread( file )\n",
        "   if img is None:\n",
        "    sys.exit(f'エラー: ファイルを開けませんでした {file}')\n",
        "   cv2_imshow(img)\n",
        "   print('ほかの店の詳細も調べますか？')\n",
        "   c=int(input('1:はい　2:いいえ '))\n",
        "   if c==2:\n",
        "    print('ありがとうございました')\n",
        "    break\n",
        "\n",
        "df=pd.read_csv('work1.csv')\n",
        "print('広島県のおいしいお店を提案します')\n",
        "print('検索方法を選択してください   1:食べログランキング(12月21日現在)   2:値段   3:ジャンル   4:ランダム')\n",
        "\n",
        "x=int(input('数字を入力してください '))\n",
        "\n",
        "if x==1:\n",
        " while True:\n",
        "   print('ランキング上位〇店を表示します (〇≦30)')\n",
        "   maru=int(input('〇＝ '))\n",
        "   display(df[df['ランキング']<=maru][['ランキング','店名','ジャンル']])\n",
        "   print('上位'+str(maru)+'位まででよろしかったですか？')\n",
        "   a=int(input('1:OK   2:選択しなおす '))\n",
        "   if a==1:\n",
        "     break\n",
        " syousai()\n",
        "\n",
        "elif x==2:\n",
        "  while True:\n",
        "     print('〇円以内のお店を表示します')\n",
        "     d=int(input('〇＝'))\n",
        "     df2=df.sort_values('予算',ascending=False)\n",
        "     display(df2[df2['予算']<=d][['予算','店名','ジャンル']])\n",
        "     print(str(d)+'円以内でよろしいですか？')\n",
        "     e=int(input('1:はい　2:いいえ　'))\n",
        "     if e==1:\n",
        "       break\n",
        "  syousai()\n",
        "\n",
        "elif x==3:\n",
        "  while True:\n",
        "   print('ジャンルを入力してください　例：ラーメン、イタリアン、カフェなど') \n",
        "   while True: \n",
        "    j=input('ジャンル: ')\n",
        "    if len(df[df['ジャンル']==j])==0:\n",
        "     print('他の言葉を入力してください')\n",
        "    else:\n",
        "      break\n",
        "   display(df[df['ジャンル']==j][['ジャンル','店名']])\n",
        "   print(j+'でよろしいですか？')\n",
        "   f=int(input('1:はい  2:いいえ  '))\n",
        "   if f==1:\n",
        "     break\n",
        "  syousai()\n",
        "\n",
        "elif x==4:\n",
        "  print('ランダムにお店を提案します')\n",
        "  while True:\n",
        "   r=random.randint(0,99)\n",
        "   display(df.iloc[[r]][['店名','ジャンル']])\n",
        "   print('詳細を調べますか？')\n",
        "   g=int(input('1:はい　2:いいえ　'))\n",
        "   if g==1:\n",
        "    print(df.at[r,'店名']+'の詳細を表示します')\n",
        "    print('12月21日時点で食べログランキング'+str(df.at[r,'ランキング'])+'位です')\n",
        "    print('予算は'+str(df.at[r,'予算'])+'円です')\n",
        "    print('予約は'+df.at[r,'予約']+'です')\n",
        "    print('最寄り駅は'+df.at[r,'最寄り駅']+'です')\n",
        "    if df.at[r,'定休日']!='不定休':\n",
        "      print('定休日は'+df.at[r,'定休日']+'です')\n",
        "    print('周辺地図はこちらです')\n",
        "    file ='map/'+df.at[r,'地図']\n",
        "    img = cv2.imread( file )\n",
        "    if img is None:\n",
        "     sys.exit(f'エラー: ファイルを開けませんでした {file}')\n",
        "    cv2_imshow(img)\n",
        "   print('他のお店をみますか？')\n",
        "   h=int(input('1:はい　2:いいえ　')) \n",
        "   if h==2:\n",
        "     break \n",
        "  print('ありがとうございました')\n",
        "else:\n",
        "   print('1～4を入力してください' )"
      ],
      "metadata": {
        "id": "KNZs0Bun1Z_P"
      },
      "execution_count": null,
      "outputs": []
    }
  ]
}